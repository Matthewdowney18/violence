{
 "cells": [
  {
   "cell_type": "markdown",
   "metadata": {
    "collapsed": true
   },
   "source": [
    "# Create Dataset \n",
    "Looks at the violent, and nonviolent files, and creates a single\n",
    "dict with the violent and nonviolent subjects, and creates a list of posts for each user, with an id for each post "
   ]
  },
  {
   "cell_type": "code",
   "execution_count": 1,
   "metadata": {},
   "outputs": [],
   "source": [
    "# imports\n",
    "import random\n",
    "import re\n",
    "import string\n",
    "import json\n",
    "import csv\n",
    "import os\n",
    "from tqdm import tqdm\n",
    "from nltk.tokenize import TweetTokenizer"
   ]
  },
  {
   "cell_type": "code",
   "execution_count": 2,
   "metadata": {},
   "outputs": [],
   "source": [
    "# initialize tokenizer\n",
    "tk = TweetTokenizer()\n",
    "# initialize tokens to remove\n",
    "remove_tokens = ['\"', \"-\", '“', '”']\n",
    "# types of datasets\n",
    "datasets = [\"non_violent\", \"violent\"]\n",
    "# other \n",
    "subject = 0\n",
    "subject_post = 0\n",
    "# for \n",
    "meta_data = dict()"
   ]
  },
  {
   "cell_type": "code",
   "execution_count": 3,
   "metadata": {},
   "outputs": [],
   "source": [
    "# initialize output directory\n",
    "output_dir = \"data_2\"\n",
    "if not os.path.exists(output_dir):\n",
    "    os.mkdir(output_dir)"
   ]
  },
  {
   "cell_type": "code",
   "execution_count": 4,
   "metadata": {},
   "outputs": [],
   "source": [
    "# preprocsessing for each line at the beginning\n",
    "def clean_initial_line(line):\n",
    "    line = line.lstrip()\n",
    "    line = line.rstrip()\n",
    "    line = line.strip()\n",
    "    line = line.lower()\n",
    "    return line"
   ]
  },
  {
   "cell_type": "code",
   "execution_count": 5,
   "metadata": {},
   "outputs": [],
   "source": [
    "# creates a dictionary of a post id to a clean post for a particular subject\n",
    "def prepare_post(line, subject_post):\n",
    "    re.sub('^[0-9]*$', \"NUM\", line)\n",
    "    words = tk.tokenize(line)\n",
    "    for item in remove_tokens:\n",
    "        if item in words : words.remove(item)\n",
    "    return {subject_post: ' '.join(words)}"
   ]
  },
  {
   "cell_type": "code",
   "execution_count": 6,
   "metadata": {},
   "outputs": [],
   "source": [
    "# function to load data from the text file\n",
    "\n",
    "def load_data(fp):\n",
    "    data = dict()\n",
    "    for line in tqdm(f):\n",
    "        line = clean_initial_line(line)\n",
    "        # lines with a number indicate new subject\n",
    "        if line.isnumeric():\n",
    "            subject = line\n",
    "            if subject not in data:\n",
    "                data[subject] = list()\n",
    "                subject_post=0\n",
    "            else:\n",
    "                subject_post=list(data[subject][-1].keys())[0]+1\n",
    "        elif len(line.split(\" \")) < 2:\n",
    "            continue\n",
    "        else:\n",
    "            data[subject].append(prepare_post(line, subject_post))\n",
    "            subject_post += 1\n",
    "    return data"
   ]
  },
  {
   "cell_type": "code",
   "execution_count": 7,
   "metadata": {},
   "outputs": [
    {
     "name": "stderr",
     "output_type": "stream",
     "text": [
      "843it [00:00, 5800.73it/s]\n",
      "806it [00:00, 9831.30it/s]\n"
     ]
    }
   ],
   "source": [
    "# creates a dictionary with violent subjects, and non violent subjects\n",
    "# with a list of posts for each subject\n",
    "all_data = dict()\n",
    "for dataset in datasets:\n",
    "    with open(\"txt_data/{}.txt\".format(dataset), 'r') as f:\n",
    "        all_data[dataset] = load_data(dataset)"
   ]
  },
  {
   "cell_type": "code",
   "execution_count": null,
   "metadata": {},
   "outputs": [],
   "source": [
    "all_data"
   ]
  },
  {
   "cell_type": "code",
   "execution_count": 8,
   "metadata": {},
   "outputs": [],
   "source": [
    "# save file\n",
    "with open(os.path.join(output_dir, 'cleaned_data'), 'w') as fp:\n",
    "    json.dump(all_data, fp, indent=4)"
   ]
  },
  {
   "cell_type": "code",
   "execution_count": 9,
   "metadata": {},
   "outputs": [
    {
     "data": {
      "text/plain": [
       "23"
      ]
     },
     "execution_count": 9,
     "metadata": {},
     "output_type": "execute_result"
    }
   ],
   "source": [
    "# number of non_violent subjects\n",
    "len(all_data[\"non_violent\"])"
   ]
  },
  {
   "cell_type": "code",
   "execution_count": 10,
   "metadata": {},
   "outputs": [
    {
     "data": {
      "text/plain": [
       "23"
      ]
     },
     "execution_count": 10,
     "metadata": {},
     "output_type": "execute_result"
    }
   ],
   "source": [
    "# number of violent subjects\n",
    "len(all_data[\"violent\"])"
   ]
  },
  {
   "cell_type": "code",
   "execution_count": 11,
   "metadata": {},
   "outputs": [],
   "source": [
    "# this function creates a list of all posts for violent/nonviolent datasets\n",
    "def aggregate_data(data, label):\n",
    "    if label ==\"violent\": label = 1 \n",
    "    else: label=0\n",
    "    aggregated_data=[]\n",
    "    subjects =  list(data.keys()) \n",
    "    random.shuffle(subjects)\n",
    "    for subject in subjects:\n",
    "        for post in data[subject]:\n",
    "            post_items = list(post.items())[0]\n",
    "            aggregated_data.append((subject, post_items[0], post_items[1], label))\n",
    "    return aggregated_data"
   ]
  },
  {
   "cell_type": "code",
   "execution_count": 12,
   "metadata": {},
   "outputs": [],
   "source": [
    "# create list of all violent/nonviolent posts\n",
    "data = {}\n",
    "for dataset in datasets:\n",
    "    data[dataset] = aggregate_data(all_data[dataset], dataset)"
   ]
  },
  {
   "cell_type": "code",
   "execution_count": null,
   "metadata": {},
   "outputs": [],
   "source": [
    "data"
   ]
  },
  {
   "cell_type": "code",
   "execution_count": 13,
   "metadata": {},
   "outputs": [
    {
     "name": "stdout",
     "output_type": "stream",
     "text": [
      "non_violent\n",
      "592\n",
      "111\n",
      "violent\n",
      "490\n",
      "85\n"
     ]
    }
   ],
   "source": [
    "# Split int train/val, test sets\n",
    "# makes sure a subject is not in both train, and test datasets\n",
    "# to get different result, re run the cell to create list of posts\n",
    "split = .8\n",
    "final_data = dict()\n",
    "splits = {}\n",
    "\n",
    "for dataset in datasets:\n",
    "    val = list()\n",
    "    train = list()\n",
    "    # get subject id of the last subject in training\n",
    "    split_idx = int(split*len(data[dataset]))\n",
    "    split_ex = data[dataset][split_idx][0]\n",
    "    \n",
    "    is_train = True\n",
    "    for example in data[dataset]:\n",
    "        \n",
    "        if example[0]==split_ex:\n",
    "            is_train = False\n",
    "            train.append(example)\n",
    "            #print(\"{},{}\".format(example[0], \"train\")\n",
    "        elif is_train is True:\n",
    "            train.append(example)\n",
    "            #print(\"{},{}\".format(example[0], \"train\")\n",
    "        else:\n",
    "            val.append(example)\n",
    "    \n",
    "    print(dataset)\n",
    "    print(len(train))\n",
    "    print(len(val))\n",
    "    \n",
    "    # collect data on splits\n",
    "    splits[dataset] = {\"train\":len(train),\n",
    "                       \"val\":len(val)}\n",
    "    # save to larger dictionary\n",
    "    final_data[dataset] = {\"train\":train, \"val\":val}"
   ]
  },
  {
   "cell_type": "code",
   "execution_count": 14,
   "metadata": {},
   "outputs": [],
   "source": [
    "# combine violent and non violent for train and val datasets\n",
    "dataset_train = final_data[\"violent\"][\"train\"]+final_data[\"non_violent\"][\"train\"]\n",
    "dataset_val = final_data[\"violent\"][\"val\"]+final_data[\"non_violent\"][\"val\"]"
   ]
  },
  {
   "cell_type": "code",
   "execution_count": 15,
   "metadata": {},
   "outputs": [
    {
     "data": {
      "text/plain": [
       "1082"
      ]
     },
     "execution_count": 15,
     "metadata": {},
     "output_type": "execute_result"
    }
   ],
   "source": [
    "len(dataset_train)"
   ]
  },
  {
   "cell_type": "code",
   "execution_count": 16,
   "metadata": {},
   "outputs": [
    {
     "data": {
      "text/plain": [
       "196"
      ]
     },
     "execution_count": 16,
     "metadata": {},
     "output_type": "execute_result"
    }
   ],
   "source": [
    "len(dataset_val)"
   ]
  },
  {
   "cell_type": "code",
   "execution_count": 17,
   "metadata": {},
   "outputs": [],
   "source": [
    "# get size of train test sets\n",
    "splits[\"all\"] = {\"train\":len(dataset_train),\n",
    "                 \"val\":len(dataset_val)}"
   ]
  },
  {
   "cell_type": "code",
   "execution_count": 18,
   "metadata": {},
   "outputs": [],
   "source": [
    "# save datasets\n",
    "with open(os.path.join(output_dir, \"train.csv\"), 'w') as fp:\n",
    "    csv_writer = csv.writer(fp)\n",
    "    for row in dataset_train:\n",
    "        csv_writer.writerow(row)\n",
    "with open(os.path.join(output_dir, \"val.csv\"), 'w') as fp:\n",
    "    csv_writer = csv.writer(fp)\n",
    "    for row in dataset_val:\n",
    "        csv_writer.writerow(row)"
   ]
  },
  {
   "cell_type": "code",
   "execution_count": 19,
   "metadata": {},
   "outputs": [],
   "source": [
    "def collect_meta_data(data):\n",
    "    key = data[0][0]\n",
    "    num_posts = 1\n",
    "    sub_word_count = 0\n",
    "    total_words = 0\n",
    "    num_subjects =1\n",
    "    subject_data = dict()\n",
    "    for ex in data:\n",
    "        num_tokens = len(re.findall(r'\\w+', ex[2]))\n",
    "        if ex[0]!=key:\n",
    "            subject_data[key] = {\"num_posts\":num_posts, \"length/post\":sub_word_count/num_posts}\n",
    "            key = ex[0]\n",
    "            sub_word_count=num_tokens\n",
    "            num_posts = 1\n",
    "            num_subjects +=1\n",
    "        else:\n",
    "            num_posts+=1\n",
    "            sub_word_count+=num_tokens\n",
    "        total_words += num_tokens\n",
    "\n",
    "    meta_data = {\"subject_data\" : subject_data}\n",
    "    meta_data[\"num_posts\"] = len(data)\n",
    "    meta_data[\"num_subjects\"] = num_subjects\n",
    "    meta_data[\"average_posts_per_sub\"] = len(data)/num_subjects\n",
    "    meta_data[\"words_per_subject\"] = (total_words/len(data))\n",
    "    return meta_data"
   ]
  },
  {
   "cell_type": "code",
   "execution_count": 20,
   "metadata": {},
   "outputs": [
    {
     "name": "stdout",
     "output_type": "stream",
     "text": [
      "{\n",
      "    \"violent\": {\n",
      "        \"subject_data\": {\n",
      "            \"2258\": {\n",
      "                \"num_posts\": 12,\n",
      "                \"length/post\": 34.166666666666664\n",
      "            },\n",
      "            \"1254\": {\n",
      "                \"num_posts\": 8,\n",
      "                \"length/post\": 10.5\n",
      "            },\n",
      "            \"2425\": {\n",
      "                \"num_posts\": 38,\n",
      "                \"length/post\": 55.921052631578945\n",
      "            },\n",
      "            \"9333\": {\n",
      "                \"num_posts\": 10,\n",
      "                \"length/post\": 35.6\n",
      "            },\n",
      "            \"9989\": {\n",
      "                \"num_posts\": 1,\n",
      "                \"length/post\": 25.0\n",
      "            },\n",
      "            \"7981\": {\n",
      "                \"num_posts\": 50,\n",
      "                \"length/post\": 40.28\n",
      "            },\n",
      "            \"5372\": {\n",
      "                \"num_posts\": 29,\n",
      "                \"length/post\": 39.793103448275865\n",
      "            },\n",
      "            \"3942\": {\n",
      "                \"num_posts\": 99,\n",
      "                \"length/post\": 48.282828282828284\n",
      "            },\n",
      "            \"4234\": {\n",
      "                \"num_posts\": 25,\n",
      "                \"length/post\": 30.76\n",
      "            },\n",
      "            \"1977\": {\n",
      "                \"num_posts\": 36,\n",
      "                \"length/post\": 19.583333333333332\n",
      "            },\n",
      "            \"4329\": {\n",
      "                \"num_posts\": 19,\n",
      "                \"length/post\": 35.68421052631579\n",
      "            },\n",
      "            \"4169\": {\n",
      "                \"num_posts\": 40,\n",
      "                \"length/post\": 26.05\n",
      "            },\n",
      "            \"6606\": {\n",
      "                \"num_posts\": 3,\n",
      "                \"length/post\": 49.333333333333336\n",
      "            },\n",
      "            \"1732\": {\n",
      "                \"num_posts\": 3,\n",
      "                \"length/post\": 41.666666666666664\n",
      "            },\n",
      "            \"8145\": {\n",
      "                \"num_posts\": 9,\n",
      "                \"length/post\": 56.44444444444444\n",
      "            },\n",
      "            \"2756\": {\n",
      "                \"num_posts\": 6,\n",
      "                \"length/post\": 18.0\n",
      "            },\n",
      "            \"3369\": {\n",
      "                \"num_posts\": 37,\n",
      "                \"length/post\": 30.756756756756758\n",
      "            },\n",
      "            \"4789\": {\n",
      "                \"num_posts\": 29,\n",
      "                \"length/post\": 14.413793103448276\n",
      "            },\n",
      "            \"2164\": {\n",
      "                \"num_posts\": 37,\n",
      "                \"length/post\": 66.54054054054055\n",
      "            },\n",
      "            \"4014\": {\n",
      "                \"num_posts\": 42,\n",
      "                \"length/post\": 58.5\n",
      "            },\n",
      "            \"4265\": {\n",
      "                \"num_posts\": 12,\n",
      "                \"length/post\": 65.0\n",
      "            },\n",
      "            \"6584\": {\n",
      "                \"num_posts\": 8,\n",
      "                \"length/post\": 19.75\n",
      "            }\n",
      "        },\n",
      "        \"num_posts\": 575,\n",
      "        \"num_subjects\": 23,\n",
      "        \"average_posts_per_sub\": 25.0,\n",
      "        \"words_per_subject\": 41.96695652173913\n",
      "    },\n",
      "    \"non_violent\": {\n",
      "        \"subject_data\": {\n",
      "            \"9779\": {\n",
      "                \"num_posts\": 9,\n",
      "                \"length/post\": 53.55555555555556\n",
      "            },\n",
      "            \"1321\": {\n",
      "                \"num_posts\": 3,\n",
      "                \"length/post\": 51.666666666666664\n",
      "            },\n",
      "            \"9999\": {\n",
      "                \"num_posts\": 11,\n",
      "                \"length/post\": 48.45454545454545\n",
      "            },\n",
      "            \"9114\": {\n",
      "                \"num_posts\": 4,\n",
      "                \"length/post\": 29.25\n",
      "            },\n",
      "            \"1970\": {\n",
      "                \"num_posts\": 11,\n",
      "                \"length/post\": 16.636363636363637\n",
      "            },\n",
      "            \"6135\": {\n",
      "                \"num_posts\": 5,\n",
      "                \"length/post\": 44.0\n",
      "            },\n",
      "            \"1486\": {\n",
      "                \"num_posts\": 19,\n",
      "                \"length/post\": 24.36842105263158\n",
      "            },\n",
      "            \"8787\": {\n",
      "                \"num_posts\": 6,\n",
      "                \"length/post\": 46.5\n",
      "            },\n",
      "            \"9987\": {\n",
      "                \"num_posts\": 18,\n",
      "                \"length/post\": 27.77777777777778\n",
      "            },\n",
      "            \"7151\": {\n",
      "                \"num_posts\": 382,\n",
      "                \"length/post\": 65.58376963350786\n",
      "            },\n",
      "            \"1114\": {\n",
      "                \"num_posts\": 19,\n",
      "                \"length/post\": 52.31578947368421\n",
      "            },\n",
      "            \"1789\": {\n",
      "                \"num_posts\": 33,\n",
      "                \"length/post\": 49.45454545454545\n",
      "            },\n",
      "            \"6137\": {\n",
      "                \"num_posts\": 12,\n",
      "                \"length/post\": 22.5\n",
      "            },\n",
      "            \"8978\": {\n",
      "                \"num_posts\": 6,\n",
      "                \"length/post\": 72.16666666666667\n",
      "            },\n",
      "            \"3698\": {\n",
      "                \"num_posts\": 9,\n",
      "                \"length/post\": 36.888888888888886\n",
      "            },\n",
      "            \"1988\": {\n",
      "                \"num_posts\": 8,\n",
      "                \"length/post\": 23.5\n",
      "            },\n",
      "            \"7784\": {\n",
      "                \"num_posts\": 38,\n",
      "                \"length/post\": 45.8421052631579\n",
      "            },\n",
      "            \"7898\": {\n",
      "                \"num_posts\": 1,\n",
      "                \"length/post\": 526.0\n",
      "            },\n",
      "            \"1415\": {\n",
      "                \"num_posts\": 20,\n",
      "                \"length/post\": 18.3\n",
      "            },\n",
      "            \"1212\": {\n",
      "                \"num_posts\": 42,\n",
      "                \"length/post\": 21.595238095238095\n",
      "            },\n",
      "            \"4881\": {\n",
      "                \"num_posts\": 2,\n",
      "                \"length/post\": 12.0\n",
      "            },\n",
      "            \"4432\": {\n",
      "                \"num_posts\": 9,\n",
      "                \"length/post\": 75.11111111111111\n",
      "            }\n",
      "        },\n",
      "        \"num_posts\": 703,\n",
      "        \"num_subjects\": 23,\n",
      "        \"average_posts_per_sub\": 30.565217391304348,\n",
      "        \"words_per_subject\": 52.76813655761024\n",
      "    },\n",
      "    \"splits\": {\n",
      "        \"non_violent\": {\n",
      "            \"train\": 592,\n",
      "            \"val\": 111\n",
      "        },\n",
      "        \"violent\": {\n",
      "            \"train\": 490,\n",
      "            \"val\": 85\n",
      "        },\n",
      "        \"all\": {\n",
      "            \"train\": 1082,\n",
      "            \"val\": 196\n",
      "        }\n",
      "    }\n",
      "}\n"
     ]
    }
   ],
   "source": [
    "meta_data[\"violent\"] = collect_meta_data(data[\"violent\"])\n",
    "meta_data[\"non_violent\"] = collect_meta_data(data[\"non_violent\"])\n",
    "meta_data[\"splits\"] = splits\n",
    "print(json.dumps(meta_data, indent=4))"
   ]
  },
  {
   "cell_type": "code",
   "execution_count": 21,
   "metadata": {},
   "outputs": [],
   "source": [
    "with open(os.path.join(output_dir, \"metadata.json\"), \"w\") as f:\n",
    "    json.dump(meta_data, f, indent=4)"
   ]
  }
 ],
 "metadata": {
  "kernelspec": {
   "display_name": "Python 3",
   "language": "python",
   "name": "python3"
  },
  "language_info": {
   "codemirror_mode": {
    "name": "ipython",
    "version": 3
   },
   "file_extension": ".py",
   "mimetype": "text/x-python",
   "name": "python",
   "nbconvert_exporter": "python",
   "pygments_lexer": "ipython3",
   "version": "3.7.3"
  }
 },
 "nbformat": 4,
 "nbformat_minor": 1
}
