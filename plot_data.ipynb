{
 "cells": [
  {
   "cell_type": "markdown",
   "metadata": {},
   "source": [
    "# Make some graphs"
   ]
  },
  {
   "cell_type": "code",
   "execution_count": 51,
   "metadata": {},
   "outputs": [],
   "source": [
    "%matplotlib inline\n",
    "import json\n",
    "import os\n",
    "import pandas as pd\n",
    "import matplotlib\n",
    "import matplotlib.pyplot as plt"
   ]
  },
  {
   "cell_type": "code",
   "execution_count": 52,
   "metadata": {},
   "outputs": [
    {
     "data": {
      "image/png": "[encoded data removed]",
      "text/plain": [
       "<Figure size 432x288 with 1 Axes>"
      ]
     },
     "metadata": {
      "needs_background": "light"
     },
     "output_type": "display_data"
    }
   ],
   "source": [
    "fig, ax = plt.subplots(nrows=1, ncols=1, num=\"seaborn-dark\")"
   ]
  },
  {
   "cell_type": "code",
   "execution_count": 53,
   "metadata": {},
   "outputs": [],
   "source": [
    "data_dir = \"data_2\"\n",
    "results_ver = \"1\"\n",
    "results_file = \"results_{}.json\".format(results_ver)"
   ]
  },
  {
   "cell_type": "code",
   "execution_count": 54,
   "metadata": {},
   "outputs": [],
   "source": [
    "with open(os.path.join(data_dir, results_file), \"r\") as f:\n",
    "    data = json.load(f)"
   ]
  },
  {
   "cell_type": "code",
   "execution_count": 55,
   "metadata": {},
   "outputs": [],
   "source": [
    "df = pd.DataFrame.from_dict(data).T"
   ]
  },
  {
   "cell_type": "code",
   "execution_count": 56,
   "metadata": {},
   "outputs": [
    {
     "data": {
      "text/html": [
       "<div>\n",
       "<style scoped>\n",
       "    .dataframe tbody tr th:only-of-type {\n",
       "        vertical-align: middle;\n",
       "    }\n",
       "\n",
       "    .dataframe tbody tr th {\n",
       "        vertical-align: top;\n",
       "    }\n",
       "\n",
       "    .dataframe thead th {\n",
       "        text-align: right;\n",
       "    }\n",
       "</style>\n",
       "<table border=\"1\" class=\"dataframe\">\n",
       "  <thead>\n",
       "    <tr style=\"text-align: right;\">\n",
       "      <th></th>\n",
       "      <th>accuracy</th>\n",
       "      <th>f1</th>\n",
       "      <th>precision</th>\n",
       "      <th>recall</th>\n",
       "    </tr>\n",
       "  </thead>\n",
       "  <tbody>\n",
       "    <tr>\n",
       "      <th>TF_IDF_LR</th>\n",
       "      <td>0.622449</td>\n",
       "      <td>0.543210</td>\n",
       "      <td>0.571429</td>\n",
       "      <td>0.517647</td>\n",
       "    </tr>\n",
       "    <tr>\n",
       "      <th>TF_IDF_svc-sigmoid</th>\n",
       "      <td>0.627551</td>\n",
       "      <td>0.578035</td>\n",
       "      <td>0.568182</td>\n",
       "      <td>0.588235</td>\n",
       "    </tr>\n",
       "    <tr>\n",
       "      <th>TF_IDF_svc-rbf</th>\n",
       "      <td>0.642857</td>\n",
       "      <td>0.583333</td>\n",
       "      <td>0.590361</td>\n",
       "      <td>0.576471</td>\n",
       "    </tr>\n",
       "    <tr>\n",
       "      <th>TF_IDF_svc-linear</th>\n",
       "      <td>0.627551</td>\n",
       "      <td>0.578035</td>\n",
       "      <td>0.568182</td>\n",
       "      <td>0.588235</td>\n",
       "    </tr>\n",
       "    <tr>\n",
       "      <th>TF_IDF_NN</th>\n",
       "      <td>0.607143</td>\n",
       "      <td>0.564972</td>\n",
       "      <td>0.543478</td>\n",
       "      <td>0.588235</td>\n",
       "    </tr>\n",
       "    <tr>\n",
       "      <th>BERT_LR</th>\n",
       "      <td>0.607143</td>\n",
       "      <td>0.527607</td>\n",
       "      <td>0.551282</td>\n",
       "      <td>0.505882</td>\n",
       "    </tr>\n",
       "    <tr>\n",
       "      <th>BERT_svc-sigmoid</th>\n",
       "      <td>0.561224</td>\n",
       "      <td>0.469136</td>\n",
       "      <td>0.493506</td>\n",
       "      <td>0.447059</td>\n",
       "    </tr>\n",
       "    <tr>\n",
       "      <th>BERT_svc-rbf</th>\n",
       "      <td>0.571429</td>\n",
       "      <td>0.517241</td>\n",
       "      <td>0.505618</td>\n",
       "      <td>0.529412</td>\n",
       "    </tr>\n",
       "    <tr>\n",
       "      <th>BERT_svc-linear</th>\n",
       "      <td>0.581633</td>\n",
       "      <td>0.517647</td>\n",
       "      <td>0.517647</td>\n",
       "      <td>0.517647</td>\n",
       "    </tr>\n",
       "    <tr>\n",
       "      <th>BERT_NN</th>\n",
       "      <td>0.581633</td>\n",
       "      <td>0.500000</td>\n",
       "      <td>0.518987</td>\n",
       "      <td>0.482353</td>\n",
       "    </tr>\n",
       "  </tbody>\n",
       "</table>\n",
       "</div>"
      ],
      "text/plain": [
       "                    accuracy        f1  precision    recall\n",
       "TF_IDF_LR           0.622449  0.543210   0.571429  0.517647\n",
       "TF_IDF_svc-sigmoid  0.627551  0.578035   0.568182  0.588235\n",
       "TF_IDF_svc-rbf      0.642857  0.583333   0.590361  0.576471\n",
       "TF_IDF_svc-linear   0.627551  0.578035   0.568182  0.588235\n",
       "TF_IDF_NN           0.607143  0.564972   0.543478  0.588235\n",
       "BERT_LR             0.607143  0.527607   0.551282  0.505882\n",
       "BERT_svc-sigmoid    0.561224  0.469136   0.493506  0.447059\n",
       "BERT_svc-rbf        0.571429  0.517241   0.505618  0.529412\n",
       "BERT_svc-linear     0.581633  0.517647   0.517647  0.517647\n",
       "BERT_NN             0.581633  0.500000   0.518987  0.482353"
      ]
     },
     "execution_count": 56,
     "metadata": {},
     "output_type": "execute_result"
    }
   ],
   "source": [
    "df"
   ]
  },
  {
   "cell_type": "code",
   "execution_count": 57,
   "metadata": {},
   "outputs": [],
   "source": [
    "ax = df.plot(kind=\"bar\", ax=ax, legend=False)"
   ]
  },
  {
   "cell_type": "code",
   "execution_count": 58,
   "metadata": {},
   "outputs": [
    {
     "data": {
      "text/plain": [
       "<matplotlib.legend.Legend at 0x7ff661bd1cc0>"
      ]
     },
     "execution_count": 58,
     "metadata": {},
     "output_type": "execute_result"
    }
   ],
   "source": [
    "ax.legend(loc='lower center', ncol=4)"
   ]
  },
  {
   "cell_type": "code",
   "execution_count": 59,
   "metadata": {},
   "outputs": [],
   "source": [
    "g = plt.setp( ax.xaxis.get_majorticklabels(), rotation=45 )"
   ]
  },
  {
   "cell_type": "code",
   "execution_count": 60,
   "metadata": {},
   "outputs": [],
   "source": [
    "# shift subplots upward\n",
    "box = ax.get_position()"
   ]
  },
  {
   "cell_type": "code",
   "execution_count": 61,
   "metadata": {},
   "outputs": [],
   "source": [
    "ax.set_position([box.x0, box.y0+.1, box.width, box.height-.05])"
   ]
  },
  {
   "cell_type": "code",
   "execution_count": 62,
   "metadata": {},
   "outputs": [],
   "source": [
    "fig.savefig(os.path.join(data_dir, \"results_fig_{}.png\".format(results_ver)))"
   ]
  },
  {
   "cell_type": "code",
   "execution_count": null,
   "metadata": {},
   "outputs": [],
   "source": []
  },
  {
   "cell_type": "code",
   "execution_count": null,
   "metadata": {},
   "outputs": [],
   "source": []
  }
 ],
 "metadata": {
  "kernelspec": {
   "display_name": "Python 3",
   "language": "python",
   "name": "python3"
  },
  "language_info": {
   "codemirror_mode": {
    "name": "ipython",
    "version": 3
   },
   "file_extension": ".py",
   "mimetype": "text/x-python",
   "name": "python",
   "nbconvert_exporter": "python",
   "pygments_lexer": "ipython3",
   "version": "3.7.3"
  }
 },
 "nbformat": 4,
 "nbformat_minor": 2
}
